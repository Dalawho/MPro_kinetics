{
 "cells": [
  {
   "cell_type": "markdown",
   "metadata": {},
   "source": [
    "Simulate data based on the MPro data from moonshot to compare data for uni- and multivariant fitting\n",
    "\n",
    "Simulation is done using pysb (BioNetGen)\n",
    "\n",
    "For the analysis use enzyme and substrate conc and Km from Wal Ward \"Methods to analyse Mpro time-course data for irreversible inhibitors\" \n",
    "Enzyme = 5 nM, but assume Kd for dimer of 2.5 uM, only dimer is active, concentraiton of active enzyme = 0.039 nM\n",
    "Substrate = 375 nM\n",
    "Km = 50 uM\n",
    "Assume kcat/Km = 28.500 (10.1038/s41586-020-2223-y), thus kcat= 1.425"
   ]
  },
  {
   "cell_type": "code",
   "execution_count": 3,
   "metadata": {},
   "outputs": [],
   "source": [
    "#Imports\n",
    "from pysb import *\n",
    "from pysb import pathfinder\n",
    "from pysb.integrate import Solver\n",
    "from pysb.integrate import odesolve\n",
    "import pandas as pd\n",
    "import matplotlib.pyplot as plt\n",
    "import seaborn as sns\n",
    "import numpy as np\n",
    "from numpy import exp, sin\n",
    "import random\n",
    "from lmfit import minimize, Parameters\n",
    "from tqdm import tqdm\n",
    "from scipy.integrate import odeint, solve_ivp\n",
    "import time, csv, os, xlrd, glob\n",
    "from __future__ import print_function\n",
    "from ipywidgets import interact, interactive, fixed, interact_manual, IntSlider, GridspecLayout, Output, VBox\n",
    "import ipywidgets as widgets\n",
    "from IPython import display\n",
    "import plotly as py\n",
    "pathfinder.set_path(\"bng\", \"/Users/nope/Downloads/RuleBender-2.1.0.8-osx64/BioNetGen-2.2.6\")"
   ]
  },
  {
   "cell_type": "markdown",
   "metadata": {},
   "source": [
    "First all functions used for simluation and fitting are importet"
   ]
  },
  {
   "cell_type": "code",
   "execution_count": 4,
   "metadata": {},
   "outputs": [],
   "source": [
    "def simulate_kinact(time = np.linspace(0, 60*60, 30), ki1_rate = 1e+7, kim1_rate = 1e-0, \n",
    "                    kinact_rate = 1e-3, sub_rates = (2e+4, 1e-0), kcat_rate = 1.425,\n",
    "                    inhib_concs = [float(20000.)/np.power(2,x) for x in range(18)] ):\n",
    "    \"\"\"Simulate activity data for a covalent inhibitor\"\"\"\n",
    "    ars = {}\n",
    "    avo = 6.02e23\n",
    "    nm = 1e-9\n",
    "    for rate in [\"1\"]: #This is an artifact from older versions\n",
    "        ar = []\n",
    "        print(rate)\n",
    "        for inhib_conc in inhib_concs:\n",
    "\n",
    "            Model()\n",
    "            # Declare the monomers\n",
    "            Monomer('E', ['s', 'i', 'c'], {'c' : [\"encounter\", \"covalent\"]})\n",
    "            Monomer('P', ['s', 'pro'], {'pro' : [\"sub\", \"pro\"]})\n",
    "            Monomer('I', ['i'])\n",
    "\n",
    "            # Declare the parameters\n",
    "            Parameter('E_0', 0.039)\n",
    "            Parameter('P_0', 375.)\n",
    "            Parameter('I_0', inhib_conc)\n",
    "            Parameter('kp1', sub_rates[0]*nm) \n",
    "            Parameter('kpm1', sub_rates[1])\n",
    "            Parameter('ki1', ki1_rate*nm)\n",
    "            Parameter('kim1', kim1_rate)\n",
    "            Parameter('kinact', kinact_rate)\n",
    "            Parameter('kcat', kcat_rate)\n",
    "\n",
    "            # Declare the initial conditions\n",
    "            Initial(E(s=None, i = None, c = \"encounter\"), E_0)\n",
    "            Initial(I(i=None), I_0)\n",
    "            Initial(P(s=None, pro = \"sub\"), P_0)\n",
    "  \n",
    "            # Declare the binding rule\n",
    "            Rule('E_binds_P', E(s=None, i=None, c = \"encounter\") + P(s=None, pro = \"sub\") <> E(s=1, i=None, c = \"encounter\") % P(s=1, pro = \"sub\"), kp1, kpm1)\n",
    "            Rule('EP_cat_and_diss', E(s=1, i=None, c = \"encounter\") % P(s=1, pro = \"sub\") >> E(s=None, i=None, c = \"encounter\") + P(s=None, pro=\"pro\"), kcat)\n",
    "            Rule('E_binds_I', E(s=None, i=None, c = \"encounter\") + I(i=None) <> E(s=None, i=1, c = \"encounter\") % I(i=1), ki1, kim1)\n",
    "            Rule('EI_to_EIcov', E(s=None, i=1, c = \"encounter\") % I(i=1) >> E(s=None, i=1, c = \"covalent\") % I(i=1), kinact)\n",
    "\n",
    "            # Observe the complex\n",
    "            Observable('EP_Complex', E(s=1, i=None, c = None) % P(s=1, pro = \"sub\"))\n",
    "            Observable('Product', P(s=None, pro = \"pro\"))\n",
    "            #if n not in results.keys():\n",
    "            #    results[n] = {}\n",
    "            #results[n][inhib_conc] = (odesolve(model, time, compiler = \"python\"))['EP_Complex'] \n",
    "            ar.append((odesolve(model, time, compiler = \"python\")))\n",
    "        ars[\"_\".join([str(x) for x in rate])] = ar\n",
    "        ar = []\n",
    "    return ars\n",
    "\n",
    "def save_rda_figs(ars, inhib_concs, time):\n",
    "    \"\"\"Save figure of product formation over time\"\"\"\n",
    "    for key in ars.keys():\n",
    "        plt.clf()\n",
    "        for i in range(len(inhib_concs)):\n",
    "            plt.plot(time, ars[key][i]['Product'], label = str(inhib_concs[i]) + \" nM\")\n",
    "        plt.xlabel('Time (seconds)')\n",
    "        plt.ylabel('Product')\n",
    "        plt.title(key)\n",
    "        plt.savefig(key + \".png\", dpi = 300)\n",
    "    plt.clf()\n",
    "\n",
    "def steady_state_out(ars, inhib_concs, scale = 6000):\n",
    "    \"\"\"Save endpoint values for IC50 fit\"\"\"\n",
    "    for x,key in enumerate(sorted(ars.keys())):\n",
    "        temp = []\n",
    "        for i in range(len(inhib_concs)):\n",
    "            temp.append((inhib_concs[i],ars[key][i]['Product'][-1]*1e9*scale))\n",
    "        if x == 0:\n",
    "            eq = pd.DataFrame(temp, columns = [\"Conc\", key])\n",
    "        else:\n",
    "            eq = pd.merge(eq, pd.DataFrame(temp, columns = [\"Conc\", key]), on = \"Conc\")\n",
    "    eq.to_excel(\"steady state.xlsx\")  \n",
    "    return eq\n",
    "\n",
    "def make_dfs(ars, time, inhib_concs, scale):\n",
    "    \"\"\"Make a dataframe from product produced over time in the simulated data\"\"\"\n",
    "    dfs = {}\n",
    "    for x,key in enumerate(sorted(ars.keys())):\n",
    "        for i in range(len(inhib_concs)):\n",
    "            if i == 0:\n",
    "                dft = pd.DataFrame([time, ars[key][i][\"Product\"]*1e9*scale]).T.rename(columns = {0 : \"time\", 1: inhib_concs[i]})\n",
    "            else:\n",
    "                dft = pd.merge(dft, pd.DataFrame([time, ars[key][i][\"Product\"]*1e9*scale]).T.rename(columns = {0 : \"time\", 1: inhib_concs[i]}), on = \"time\")\n",
    "        dfs[key] = dft.copy()\n",
    "    return dfs\n",
    "\n",
    "def export_dfs(dfs):\n",
    "    \"\"\"Export all dataframes to excel\"\"\"\n",
    "    writer = pd.ExcelWriter('pandas_simple.xlsx', engine='xlsxwriter')\n",
    "    for key in dfs.keys():\n",
    "        dfs[key].to_excel(writer, sheet_name=key)\n",
    "    writer.save()\n",
    "    \n",
    "def monte_carlo_df(dfs, select = '10000000.0_1.0', percent_G2 = 0.5, EP_conc = 5, scale = 6000, width_G1 = 0.01, width_G2 = 0.02, repetitions = 50):\n",
    "    \"\"\"Perform monte carlo analysis, inspired by use in 10.1111/bph.14841\n",
    "    Always three replicates are run with the desired errors and data is averaged\n",
    "    Output is a dataframe with standard deviations and one with mean values \n",
    "    Noise is added as double gaussian, inspired by prism 50% get one, with width_G1 error the other with width_G2 error.\n",
    "    Percentage of each error is determined by percent_G2\n",
    "    \"\"\"\n",
    "    \n",
    "    df_mean = {}\n",
    "    df_error = {}\n",
    "    dft = dfs[select]\n",
    "    scale = dfs[\"1\"].loc[:,dfs[\"1\"].columns != \"time\"].max().max()\n",
    "\n",
    "    def rand(x):\n",
    "        if random.random() < percent_G2:\n",
    "            #return x+np.random.normal(loc = 0, scale = scale*width_G1) #error function based on scale, all datapoints have same error\n",
    "            return x+np.random.normal(loc = 1, scale = x*width_G1) #error based on relative error\n",
    "        else:\n",
    "            #return x+np.random.normal(loc = 0, scale = scale*width_G2) #error function based on scale, all datapoints have same error\n",
    "            return x+np.random.normal(loc = 1, scale = x*width_G2) #error based on relative error\n",
    "\n",
    "    for i in tqdm(range(repetitions)):\n",
    "        for x in range(3):\n",
    "            if x == 0:\n",
    "                dft2 = dft.copy()\n",
    "                dft2.iloc[:,1:] = dft.iloc[:,1:].applymap(rand)\n",
    "            else:\n",
    "                dft2 = pd.concat([dft2, pd.concat([dft.iloc[:,0], dft.iloc[:,1:].applymap(rand)], axis = 1)])\n",
    "        df_mean[i] = dft2.groupby(by = \"time\").mean()\n",
    "        df_error[i] = dft2.groupby(by = \"time\").std()\n",
    "    return df_mean, df_error\n",
    "\n",
    "def kobs_activity(params, x, data = None, eps_data = None):\n",
    "    \"\"\"Univariant kobs residuals or model function\"\"\"\n",
    "    v1 = params[\"v1\"] \n",
    "    v2 = params[\"v2\"]\n",
    "    kobs = params[\"kobs\"]\n",
    "    model = v2 * x + ( (v1 - v2) * (1- exp( -kobs * x)))/kobs\n",
    "    if data  is  None:\n",
    "        return model\n",
    "    else:\n",
    "        return (data - model)\n",
    "\n",
    "#univariant kobs fit function\n",
    "def fit_kobs_activity(df):\n",
    "    \"\"\"Univariant kobs residuals or model function\n",
    "    fit to the activity data: P = v2*t + (v1 - v2)*(1-e(-kobs*t))/kobs \n",
    "    leave out c for the offset as simulated data does not have an offset\n",
    "    \"\"\"\n",
    "    params = Parameters()\n",
    "    params.add('v1')\n",
    "    params.add('v2')\n",
    "    params.add('kobs')\n",
    "\n",
    "    fit_res = []\n",
    "\n",
    "    for i in range(df.shape[1]):\n",
    "        vmax = df.iloc[:,i].max()\n",
    "        vmin = df.iloc[:,i].min()\n",
    "        tmax = df.index.max()\n",
    "        vmid = vmin + (vmax - vmin)/2\n",
    "        l = df.iloc[:,i] - vmid\n",
    "        l = l.map(abs)\n",
    "        params[\"v1\"].value = vmax/tmax\n",
    "        params[\"v2\"].value = 0\n",
    "        #params[\"v2\"].vary = False\n",
    "        params[\"kobs\"].value = 1 / (tmax / 2)\n",
    "        fit_res.append( minimize(kobs_activity, params, args=(df.index.values, df.iloc[:,i].values)) )\n",
    "    return fit_res\n",
    "\n",
    "def global_activity_kinact(params,i, x):\n",
    "    \"\"\"Multivariant kobs model function\"\"\"\n",
    "    v0 = params[\"v0\"] \n",
    "    #v2 = params[\"v2_%i\" % (i+1)]\n",
    "    v2 = params[\"v2\"]\n",
    "    kinact = params[\"kinact\"]\n",
    "    Ki = params[\"Ki\"]\n",
    "    L = params[\"I_conc_%i\" % (i+1)]\n",
    "    kobs = (kinact*L)/(L+Ki)\n",
    "    v1 = v0 / (1 + L/Ki)\n",
    "    model = v2 * x + ( (v1 - v2) * (1- exp( -kobs * x)))/kobs\n",
    "    return model\n",
    "\n",
    "def global_activity_kinact_residuals(params, x, data = None, eps_data = None):\n",
    "    \"\"\"Multivariant kobs residuals function\"\"\"\n",
    "    _ , ndata = data.shape\n",
    "    resid = 0.0*data\n",
    "    for i in range(ndata):\n",
    "        resid.iloc[:,i] = data.iloc[:,i] - global_activity_kinact(params,i, x)\n",
    "    return resid.values.flatten()\n",
    "\n",
    "def fit_global_activity_kinact(df, starting_values = None, method = \"leastsq\"):\n",
    "    \"\"\"Multivariant kobs fit function\"\"\"\n",
    "    params = Parameters()\n",
    "    params.add('v0')\n",
    "    params.add('v2')\n",
    "    params.add('kinact')\n",
    "    params.add('Ki')\n",
    "    for iy, y in enumerate(df):\n",
    "        params.add('I_conc_%i' % (iy+1), value = y, vary  = False)\n",
    "        #params.add('v2_%i' % (iy+1), value = 0)\n",
    "    vmax = df.max().max()\n",
    "    vmin = df.min().min()\n",
    "    vmid = vmin + (vmax - vmin)/2\n",
    "    tmax = df.index.max()\n",
    "    conc_max = df.columns.max()\n",
    "    conc_min = df.columns.min()\n",
    "    conc_mid = conc_min + (conc_max - conc_min)/2\n",
    "    params[\"v0\"].value = vmax/tmax\n",
    "    params[\"v2\"].value = 0\n",
    "    #params[\"v2\"].vary = False\n",
    "    params[\"Ki\"].value = conc_mid\n",
    "    params[\"kinact\"].value = 1/(tmax/2)\n",
    "    if starting_values:\n",
    "        for key in starting_values:\n",
    "            params[key].value = starting_values[key]\n",
    "    fit = minimize(global_activity_kinact_residuals, params, args=(df.index.values, df), method = method)\n",
    "    return fit\n",
    "\n",
    "def michaelis_menten(params, x, data = None, eps_data = None):\n",
    "    \"\"\"Michaelis Menten, residuals and model function\"\"\"\n",
    "    kinact = params[\"kinact\"] \n",
    "    Ki = params[\"Ki\"]\n",
    "    model = (kinact*x) / (Ki + x)\n",
    "    if data is None:\n",
    "        return model\n",
    "    else:\n",
    "        return (data - model)\n",
    "\n",
    "def prepare_fit_MM(df_mean, fit_res , parameter, start = None, stop = None, fit = True):\n",
    "    \"\"\"Michaelis mention fit function, including data preparation\"\"\"\n",
    "    kobs_data = {}\n",
    "    for i in tqdm(df_mean.keys()):\n",
    "        if i in [\"Cplus\", \"Cmin\"]:\n",
    "            continue\n",
    "        if len(df_mean[i].columns[start:stop].astype(float)) < 2:\n",
    "            raise ValueError(\"need to use at least 2 concentrations for fit\")\n",
    "        t = pd.concat( [pd.DataFrame(df_mean[i].columns[start:stop].astype(float)), \n",
    "                    pd.DataFrame([[x.params[parameter].value, x.params[parameter].stderr] for x in fit_res[i][start:stop]])], \n",
    "                  axis = 1)\n",
    "        t.columns = [\"conc\", \"kobs\", \"kobs_error\"]\n",
    "        kobs_data[i] = t\n",
    "    if fit:\n",
    "        fit_mm = {}\n",
    "        params = Parameters()\n",
    "        params.add('kinact')\n",
    "        params.add('Ki')\n",
    "        vmax = t.kobs.max()\n",
    "        vmin = t.kobs.min()\n",
    "        vmid = vmin + (vmax - vmin)/2\n",
    "        l = t.loc[:,\"kobs\"] - vmid\n",
    "        l = l.map(abs)\n",
    "        params[\"kinact\"].value = vmax\n",
    "        if l.loc[l == l.min()].index[0] != 0:\n",
    "            params[\"Ki\"].value = 1. / l.loc[l == l.min()].index[0]\n",
    "        else:\n",
    "            params[\"Ki\"].value = 2.\n",
    "        for i in tqdm(kobs_data.keys()):\n",
    "            if i in [\"Cplus\", \"Cmin\"]:\n",
    "                continue\n",
    "            fit_mm[i] = minimize(michaelis_menten, params, args=(kobs_data[i][\"conc\"].values, kobs_data[i][\"kobs\"].values))\n",
    "        return kobs_data, fit_mm\n",
    "    else:\n",
    "        return kobs_data\n",
    "\n",
    "def refit_MM(kobs):\n",
    "    \"\"\"Refit function used in the vizualization\"\"\"\n",
    "    params = Parameters()\n",
    "    params.add('kinact')\n",
    "    params.add('Ki')\n",
    "    vmax = kobs.kobs.max()\n",
    "    vmin = kobs.kobs.min()\n",
    "    vmid = vmin + (vmax - vmin)/2\n",
    "    l = kobs.loc[:,\"kobs\"] - vmid\n",
    "    l = l.map(abs)\n",
    "    params[\"kinact\"].value = vmax\n",
    "    if l.loc[l == l.min()].index[0] != 0:\n",
    "        params[\"Ki\"].value = 1. / l.loc[l == l.min()].index[0]\n",
    "    else:\n",
    "        params[\"Ki\"].value = 2.\n",
    "    fit_mm = minimize(michaelis_menten, params, args=(kobs.loc[kobs.included == \"Y\"][\"conc\"].values, kobs.loc[kobs.included == \"Y\"][\"kobs\"].values))\n",
    "    return fit_mm\n"
   ]
  },
  {
   "cell_type": "markdown",
   "metadata": {},
   "source": [
    "Simulate data with one parameter, perform fits and vizualize univariant fit data interactively"
   ]
  },
  {
   "cell_type": "code",
   "execution_count": 5,
   "metadata": {},
   "outputs": [
    {
     "name": "stdout",
     "output_type": "stream",
     "text": [
      "1\n"
     ]
    },
    {
     "name": "stderr",
     "output_type": "stream",
     "text": [
      "100%|██████████| 20/20 [00:00<00:00, 27.76it/s]\n"
     ]
    }
   ],
   "source": [
    "#set shared parameters\n",
    "scale = 1.0e-9*6000\n",
    "inhib_concs = [float(20000.)/np.power(2,x) for x in range(18)]\n",
    "time = np.linspace(0, 60*60, 30)\n",
    "\n",
    "#simulate data\n",
    "ars = simulate_kinact(time = time, inhib_concs = inhib_concs) #Default values defined above are used, but can be adjusted\n",
    "\n",
    "#save figures from simulated data (only curves)\n",
    "save_rda_figs(ars, inhib_concs, time)\n",
    "\n",
    "#write steady state parameters (inhibition data at last point) to \"steady state.xlsx\"\n",
    "steady_state_out(ars, inhib_concs, scale)\n",
    "\n",
    "#put data into one dictionary of dataframes\n",
    "dfs = make_dfs(ars, time, inhib_concs, scale)\n",
    "\n",
    "#export data to excel\n",
    "export_dfs(dfs)\n",
    "\n",
    "#Monte Carlo simulation for one dfs\n",
    "df_mean, df_error = monte_carlo_df(dfs, width_G1 = 0.01, width_G2 = 0.02, repetitions = 20, select = \"1\") #0 for both widths adds no error"
   ]
  },
  {
   "cell_type": "code",
   "execution_count": 6,
   "metadata": {},
   "outputs": [
    {
     "name": "stderr",
     "output_type": "stream",
     "text": [
      "100%|██████████| 20/20 [00:06<00:00,  2.95it/s]\n"
     ]
    }
   ],
   "source": [
    "#fit to obtain kobs for every repetition\n",
    "act_fit_res = {}\n",
    "for k in tqdm(df_mean.keys()):\n",
    "    act_fit_res[k] = (fit_kobs_activity(df_mean[k]))"
   ]
  },
  {
   "cell_type": "code",
   "execution_count": 7,
   "metadata": {},
   "outputs": [
    {
     "name": "stdout",
     "output_type": "stream",
     "text": [
      "1\n"
     ]
    },
    {
     "data": {
      "text/plain": [
       "<Figure size 432x288 with 0 Axes>"
      ]
     },
     "metadata": {},
     "output_type": "display_data"
    },
    {
     "data": {
      "image/png": "[encoded data removed]",
      "text/plain": [
       "<Figure size 432x288 with 1 Axes>"
      ]
     },
     "metadata": {},
     "output_type": "display_data"
    }
   ],
   "source": [
    "#plot a single fit\n",
    "k = df_mean.keys()[1]\n",
    "print(k)\n",
    "one_fit = act_fit_res[k]\n",
    "df_mean[k].plot(style = \".\", legend = True)\n",
    "x = np.linspace(df_mean[k].index.min(), df_mean[k].index.max(), 500)\n",
    "for fit in one_fit:\n",
    "    plt.plot(x, kobs_activity(fit.params, x))\n",
    "plt.xlim(-100,3600)\n",
    "plt.show()"
   ]
  },
  {
   "cell_type": "code",
   "execution_count": 8,
   "metadata": {},
   "outputs": [
    {
     "name": "stderr",
     "output_type": "stream",
     "text": [
      "100%|██████████| 20/20 [00:00<00:00, 379.63it/s]\n",
      "100%|██████████| 20/20 [00:00<00:00, 269.89it/s]\n"
     ]
    }
   ],
   "source": [
    "#Fit secondary data \n",
    "#Use only a subset of curves\n",
    "#5 and -7 for simluated data\n",
    "start = 5\n",
    "stop = -7\n",
    "parameter = \"kobs\"\n",
    "fit = True\n",
    "\n",
    "# do the fit\n",
    "kobs_data, fit_mm = prepare_fit_MM(df_mean, act_fit_res, parameter = parameter, start = start, stop = stop, fit = fit)\n",
    "for i in kobs_data.keys():\n",
    "    kobs_data[i][\"included\"] = \"Y\""
   ]
  },
  {
   "cell_type": "code",
   "execution_count": 9,
   "metadata": {},
   "outputs": [
    {
     "data": {
      "application/vnd.jupyter.widget-view+json": {
       "model_id": "1acd885b376a4384af17acff1ab61ebd",
       "version_major": 2,
       "version_minor": 0
      },
      "text/plain": [
       "GridspecLayout(children=(interactive(children=(IntSlider(value=0, continuous_update=False, description=u'Repea���"
      ]
     },
     "metadata": {},
     "output_type": "display_data"
    }
   ],
   "source": [
    "#use to vizualize results interactively \n",
    "def plot_raw(Repeat):\n",
    "    Repeat = translate[Repeat]\n",
    "    df_mean[Repeat].plot(yerr = df_error[Repeat], capsize =2)\n",
    "    plt.show()\n",
    "    \n",
    "def plot_fit(Repeat):\n",
    "    Repeat = translate[Repeat]\n",
    "    df_mean[Repeat].plot(style = \".\", legend = True)\n",
    "    x = np.linspace(df_mean[Repeat].index.min(), df_mean[Repeat].index.max(), 500)\n",
    "    for fit in act_fit_res[Repeat]:\n",
    "        plt.plot(x, kobs_activity(fit.params, x))\n",
    "    plt.show()\n",
    "    \n",
    "def plot_secondary(Repeat):\n",
    "    Repeat = translate[Repeat]\n",
    "    #plot secondary linear fit plot\n",
    "    k_plot = kobs_data[Repeat]\n",
    "    try:\n",
    "        ax = k_plot.loc[k_plot.included == \"Y\"].plot(kind = \"scatter\", x = \"conc\", y = \"kobs\", legend = False)\n",
    "        k_plot.loc[k_plot.included != \"Y\"].plot(kind = \"scatter\", x = \"conc\", y = \"kobs\",marker = \"s\", legend = False, ax = ax, color = \"red\")\n",
    "    except:\n",
    "        pass\n",
    "    x = np.linspace(0, k_plot[\"conc\"].max(), 500)\n",
    "    plt.plot(x, michaelis_menten(fit_mm[Repeat].params, x))\n",
    "    plt.ylim(k_plot[\"kobs\"].min() - k_plot[\"kobs\"].min()*2, k_plot[\"kobs\"].max()*1.5)\n",
    "    plt.show()\n",
    "\n",
    "def plot_data_out(Repeat):\n",
    "    Repeat = translate[Repeat]\n",
    "    display.display(Repeat)\n",
    "    display.display(kobs_data[Repeat])\n",
    "    display.display(\"MM fit results\")\n",
    "    display.display(Parameters.pretty_print(fit_mm[Repeat].params, columns=['value', \"stderr\"]))\n",
    "    #display.display(\"ODE fit results\")\n",
    "    #display.display(Parameters.pretty_print(ode_fit_res[Repeat].params, columns=['value', \"stderr\"]))\n",
    "    d = widgets.SelectMultiple(\n",
    "    options=kobs_data[Repeat].conc,\n",
    "    value = list(kobs_data[Repeat].loc[kobs_data[Repeat].included == \"Y\"].conc.values),\n",
    "    #rows=10,\n",
    "    description='Included data for MM fit',\n",
    "    disabled=False)\n",
    "    display.display(d)\n",
    "    d.observe(change_fit_included, names='value')\n",
    "    \n",
    "def change_fit_included(change):\n",
    "    rep = translate[gs[0,0].children[0].value]\n",
    "    kobs_data[rep].loc[:,\"included\"] = \"N\"\n",
    "    kobs_data[rep].loc[kobs_data[rep].conc.isin(change[\"new\"]),\"included\"] = \"Y\"\n",
    "    try:\n",
    "        fit_mm[rep] = refit_MM(kobs_data[rep])\n",
    "        starting_values = {\"kinact\": fit_mm[rep].params[\"kinact\"].value, \"Ki\": fit_mm[rep].params[\"Ki\"].value/2}\n",
    "        #ode_fit_res[rep] = fit_kinact_ode_Ki(df_mean[rep], starting_values = starting_values)\n",
    "    except:\n",
    "        pass\n",
    "    gs[1,1].update()\n",
    "    gs[1,0].update()\n",
    "\n",
    "to_include = [x for x in df_mean.keys() if x not in [\"Cplus\", \"Cmin\"]]\n",
    "translate = dict(zip(range(len(to_include)), to_include))\n",
    "gs = GridspecLayout(2,2)\n",
    "gs[0,0] = interactive(plot_raw, Repeat=IntSlider(min = 0,max = len(to_include)-1, step  = 1, continuous_update = False))\n",
    "gs[0,0].layout.height = '350px'\n",
    "gs[0,1] = interactive(plot_fit, Repeat=IntSlider(min = 0,max = len(to_include)-1, step  = 1, continuous_update = False))\n",
    "gs[1,0] = interactive(plot_secondary, Repeat=IntSlider(min = 0,max = len(to_include)-1, step  = 1, continuous_update = False))\n",
    "gs[1,1] = interactive(plot_data_out, Repeat=IntSlider(min = 0,max = len(to_include)-1, step  = 1, continuous_update = False))\n",
    "widgets.jslink((gs[0,0].children[0], 'value'), (gs[0,1].children[0], 'value'))\n",
    "widgets.jslink((gs[0,0].children[0], 'value'), (gs[1,0].children[0], 'value'))\n",
    "widgets.jslink((gs[0,0].children[0], 'value'), (gs[1,1].children[0], 'value'))\n",
    "gs"
   ]
  },
  {
   "cell_type": "markdown",
   "metadata": {},
   "source": [
    "To estimate how the error affects obtained values, below Monte Carlo simulations are performed with the same simulated data, but different error amounts. "
   ]
  },
  {
   "cell_type": "code",
   "execution_count": 10,
   "metadata": {},
   "outputs": [
    {
     "name": "stderr",
     "output_type": "stream",
     "text": [
      "  6%|▌         | 3/50 [00:00<00:01, 28.94it/s]"
     ]
    },
    {
     "name": "stdout",
     "output_type": "stream",
     "text": [
      "(0.0, 0.0)\n"
     ]
    },
    {
     "name": "stderr",
     "output_type": "stream",
     "text": [
      "100%|██████████| 50/50 [00:01<00:00, 28.72it/s]\n",
      "100%|██████████| 50/50 [00:07<00:00,  6.93it/s]\n",
      "100%|██████████| 50/50 [00:00<00:00, 543.82it/s]\n",
      "100%|██████████| 50/50 [00:00<00:00, 267.44it/s]\n",
      "100%|██████████| 50/50 [01:14<00:00,  1.48s/it]\n",
      "  6%|▌         | 3/50 [00:00<00:01, 27.77it/s]"
     ]
    },
    {
     "name": "stdout",
     "output_type": "stream",
     "text": [
      "(0.01, 0.02)\n"
     ]
    },
    {
     "name": "stderr",
     "output_type": "stream",
     "text": [
      "100%|██████████| 50/50 [00:01<00:00, 28.07it/s]\n",
      "100%|██████████| 50/50 [00:15<00:00,  3.16it/s]\n",
      "100%|██████████| 50/50 [00:00<00:00, 571.02it/s]\n",
      "100%|██████████| 50/50 [00:00<00:00, 258.68it/s]\n",
      "100%|██████████| 50/50 [01:20<00:00,  1.62s/it]\n",
      "  6%|▌         | 3/50 [00:00<00:01, 23.85it/s]"
     ]
    },
    {
     "name": "stdout",
     "output_type": "stream",
     "text": [
      "(0.01, 0.04)\n"
     ]
    },
    {
     "name": "stderr",
     "output_type": "stream",
     "text": [
      "100%|██████████| 50/50 [00:02<00:00, 24.83it/s]\n",
      "100%|██████████| 50/50 [00:20<00:00,  2.44it/s]\n",
      "100%|██████████| 50/50 [00:00<00:00, 377.26it/s]\n",
      "100%|██████████| 50/50 [00:00<00:00, 168.23it/s]\n",
      "100%|██████████| 50/50 [01:34<00:00,  1.88s/it]\n",
      "  6%|▌         | 3/50 [00:00<00:02, 23.01it/s]"
     ]
    },
    {
     "name": "stdout",
     "output_type": "stream",
     "text": [
      "(0.02, 0.04)\n"
     ]
    },
    {
     "name": "stderr",
     "output_type": "stream",
     "text": [
      "100%|██████████| 50/50 [00:02<00:00, 22.09it/s]\n",
      "100%|██████████| 50/50 [00:23<00:00,  2.10it/s]\n",
      "100%|██████████| 50/50 [00:00<00:00, 260.65it/s]\n",
      "100%|██████████| 50/50 [00:00<00:00, 161.63it/s]\n",
      "100%|██████████| 50/50 [01:43<00:00,  2.08s/it]\n"
     ]
    }
   ],
   "source": [
    "fit_data  = {}\n",
    "\n",
    "\n",
    "for errors in [(0.0, 0.0), (0.01, 0.02), (0.01, 0.04), (0.02, 0.04)]:\n",
    "    print(errors)\n",
    "    name = \"%i_%i\" % (errors[0]*100, errors[1]*100)\n",
    "    #generate data\n",
    "    df_mean, df_error = monte_carlo_df(dfs, width_G1 = errors[0], width_G2 = errors[1], repetitions = 50, select = \"1\")\n",
    "    #plot the data to get an idea of error\n",
    "    plt.clf()\n",
    "    df_mean[0].plot(yerr=df_error[0], capsize=4)\n",
    "    lg = plt.legend(bbox_to_anchor=(1.05, 1), loc='upper left')\n",
    "    plt.savefig(name +\"_data.png\", dpi = 300, bbox_extra_artists=(lg,), bbox_inches='tight')\n",
    "    ##fitting is done here\n",
    "    act_fit_res = {}\n",
    "    for k in tqdm(df_mean.keys()):\n",
    "        act_fit_res[k] = (fit_kobs_activity(df_mean[k]))\n",
    "    #do linear fit for mono_exp data\n",
    "    start = 5\n",
    "    stop = -7\n",
    "    parameter = \"kobs\"\n",
    "    fit = True\n",
    "\n",
    "    # do the fit\n",
    "    # care slope is in nM\n",
    "    kobs_data, fit_mm = prepare_fit_MM(df_mean, act_fit_res, parameter = parameter, start = start, stop = stop, fit = fit)\n",
    "    for i in kobs_data.keys():\n",
    "        kobs_data[i][\"included\"] = \"Y\"    \n",
    "    global_fit_res = {}\n",
    "    range_min = 5\n",
    "    range_max = -7\n",
    "    for k in tqdm(df_mean.keys()):\n",
    "        #starting_values = {\"kinact\": fit_mm[i].params[\"kinact\"].value, \"Ki\": fit_mm[i].params[\"Ki\"].value}\n",
    "        try:\n",
    "            global_fit_res[k] = fit_global_activity_kinact(df_mean[k], method = \"leastsq\")#, starting_values = starting_values))\n",
    "        except: \n",
    "            pass\n",
    "\n",
    "    for fit_select in [\"loc\", \"glob\"]:\n",
    "        for param in [\"Ki\", \"kinact\"]:\n",
    "            if fit_select == \"loc\":\n",
    "                fit_data[name + \"_loc_\" + param] = []\n",
    "                for f in fit_mm:\n",
    "                    fit_data[name + \"_loc_\" + param].append(fit_mm[f].params[param].value)\n",
    "            elif fit_select == \"glob\":\n",
    "                fit_data[name + \"_glob_\" + param] = []\n",
    "                for f in global_fit_res:\n",
    "                    fit_data[name + \"_glob_\" + param].append(global_fit_res[f].params[param].value)\n",
    "\n",
    "fit_df = pd.DataFrame(dict([ (k,pd.Series(v)) for k,v in fit_data.iteritems() ]))"
   ]
  },
  {
   "cell_type": "markdown",
   "metadata": {},
   "source": [
    "Then we plot kinact and Ki and generate a table with mean / sd and CV values"
   ]
  },
  {
   "cell_type": "code",
   "execution_count": 11,
   "metadata": {},
   "outputs": [
    {
     "data": {
      "text/plain": [
       "<Figure size 432x288 with 0 Axes>"
      ]
     },
     "metadata": {},
     "output_type": "display_data"
    },
    {
     "data": {
      "text/plain": [
       "<Figure size 432x288 with 0 Axes>"
      ]
     },
     "metadata": {},
     "output_type": "display_data"
    },
    {
     "data": {
      "text/plain": [
       "<Figure size 432x288 with 0 Axes>"
      ]
     },
     "metadata": {},
     "output_type": "display_data"
    },
    {
     "data": {
      "text/plain": [
       "<Figure size 432x288 with 0 Axes>"
      ]
     },
     "metadata": {},
     "output_type": "display_data"
    },
    {
     "data": {
      "image/png": "[encoded data removed]",
      "text/plain": [
       "<Figure size 432x288 with 1 Axes>"
      ]
     },
     "metadata": {},
     "output_type": "display_data"
    }
   ],
   "source": [
    "#Plot kinact\n",
    "plt.clf()\n",
    "chart = sns.boxplot( data = fit_df.loc[:,fit_df.columns.str.contains(\"kinact\")].dropna(axis = 1, how = \"all\"), palette = \"Paired\")\n",
    "chart.set_xticklabels(chart.get_xticklabels(), rotation=45)\n",
    "#plt.ylim(0.,0.0015)\n",
    "plt.savefig(\"kinact.png\", dpi = 300, bbox_inches = \"tight\")\n",
    "\n",
    "plt.show()"
   ]
  },
  {
   "cell_type": "code",
   "execution_count": 12,
   "metadata": {},
   "outputs": [
    {
     "data": {
      "image/png": "[encoded data removed]",
      "text/plain": [
       "<Figure size 432x288 with 1 Axes>"
      ]
     },
     "metadata": {},
     "output_type": "display_data"
    }
   ],
   "source": [
    "#plot Ki\n",
    "chart = sns.boxplot( data = fit_df.loc[:,fit_df.columns.str.contains(\"Ki\")].dropna(axis = 1, how = \"all\"), palette = \"Paired\")\n",
    "chart.set_xticklabels(chart.get_xticklabels(), rotation=45)\n",
    "plt.savefig(\"Ki.png\", dpi = 300, bbox_inches = \"tight\")\n",
    "plt.ylim(5,1000)\n",
    "plt.yscale(\"log\")\n",
    "plt.show()"
   ]
  },
  {
   "cell_type": "code",
   "execution_count": 13,
   "metadata": {},
   "outputs": [],
   "source": [
    "#Generate a dataframe with the mean / sd results for different errors \n",
    "results = pd.DataFrame([fit_df.mean(),fit_df.std()]).T\n",
    "results.columns = [\"mean\", \"stdev\"]\n",
    "results[\"cv\"] = results[\"stdev\"] / results[\"mean\"]\n",
    "results.to_excel(\"comparison.xlsx\")"
   ]
  }
 ],
 "metadata": {
  "kernelspec": {
   "display_name": "Python 2",
   "language": "python",
   "name": "python2"
  },
  "language_info": {
   "codemirror_mode": {
    "name": "ipython",
    "version": 2
   },
   "file_extension": ".py",
   "mimetype": "text/x-python",
   "name": "python",
   "nbconvert_exporter": "python",
   "pygments_lexer": "ipython2",
   "version": "2.7.15"
  }
 },
 "nbformat": 4,
 "nbformat_minor": 2
}
